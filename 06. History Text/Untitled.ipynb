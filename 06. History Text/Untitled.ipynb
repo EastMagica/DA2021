{
 "cells": [
  {
   "cell_type": "markdown",
   "id": "129ac01d-f66a-4597-ba54-bcab3c5cfef5",
   "metadata": {},
   "source": [
    "# 自动阅卷\n",
    "\n",
    "初中历史主观题作答数据集"
   ]
  },
  {
   "cell_type": "code",
   "execution_count": 1,
   "id": "5dfffea5-aab6-4072-8884-3d206afd9c58",
   "metadata": {},
   "outputs": [],
   "source": [
    "import re"
   ]
  },
  {
   "cell_type": "code",
   "execution_count": 38,
   "id": "55dcacf8-7afc-4c17-860b-60ff98339e2c",
   "metadata": {},
   "outputs": [],
   "source": [
    "import jieba\n",
    "import jieba.analyse"
   ]
  },
  {
   "cell_type": "code",
   "execution_count": 3,
   "id": "6c9830fe-9e7a-4e5f-9d43-34e7f4535836",
   "metadata": {},
   "outputs": [],
   "source": [
    "import pandas as pd"
   ]
  },
  {
   "cell_type": "code",
   "execution_count": 4,
   "id": "c8cae009-00d9-43c4-9643-62e4d6fe7797",
   "metadata": {},
   "outputs": [],
   "source": [
    "from functools import reduce"
   ]
  },
  {
   "cell_type": "markdown",
   "id": "4cea4fdc-cc34-4fe1-88a7-577bd6e51115",
   "metadata": {},
   "source": [
    "## Configure"
   ]
  },
  {
   "cell_type": "markdown",
   "id": "0dbec523-64b1-45ac-821f-20380109b85f",
   "metadata": {},
   "source": [
    "### Re"
   ]
  },
  {
   "cell_type": "code",
   "execution_count": 5,
   "id": "8711d131-1318-49d8-a61e-1ff618f49c26",
   "metadata": {},
   "outputs": [],
   "source": [
    "# Chinese punctuation\n",
    "re_cn_punc = re.compile(r'[\\uff1a\\u3002\\uff1b\\uff0c\\uff1a\\u201c\\u201d\\uff08\\uff09\\u3001\\uff1f\\u300a\\u300b:;,.]')"
   ]
  },
  {
   "cell_type": "code",
   "execution_count": 6,
   "id": "2431143e-d11a-478d-b2c1-df792e641952",
   "metadata": {},
   "outputs": [],
   "source": [
    "re_cn_score = re.compile(f'\\u5404\\d+\\u5206')"
   ]
  },
  {
   "cell_type": "code",
   "execution_count": 7,
   "id": "5abef880-56f0-4d6f-9ec6-41f79a0b7358",
   "metadata": {},
   "outputs": [],
   "source": [
    "re_slash = re.compile(r'(?!=\\d+)-(?!=\\d+)')"
   ]
  },
  {
   "cell_type": "code",
   "execution_count": 8,
   "id": "b4086f27-1c09-4cad-918a-2b8488ff452e",
   "metadata": {},
   "outputs": [],
   "source": [
    "# question id decode\n",
    "re_q_decode = re.compile(r'(\\d+)(?:\\D+(\\d+))?')"
   ]
  },
  {
   "cell_type": "code",
   "execution_count": 9,
   "id": "0c10839c-1001-434f-87d5-f6f7b06b14b9",
   "metadata": {},
   "outputs": [],
   "source": [
    "re_whitespace = re.compile(r'\\s+|_x000D_')"
   ]
  },
  {
   "cell_type": "code",
   "execution_count": 10,
   "id": "ae8fa878-43a4-4723-ba7e-1dd2628c422f",
   "metadata": {},
   "outputs": [],
   "source": [
    "re_p_score = re.compile(r\"(?:（|\\()(?: *)([0-9.]+)分(?: *)(?:）|\\))\")"
   ]
  },
  {
   "cell_type": "code",
   "execution_count": 11,
   "id": "7896a4e5-9b32-4630-9c6a-5d64ab39ef1a",
   "metadata": {},
   "outputs": [],
   "source": [
    "# Sub Serial number\n",
    "re_serial = re.compile(r\"(?:[\\u2460-\\u2468])|(?:（|\\()(?: *)([0-9.]+)(?: *)(?:）|\\))\")"
   ]
  },
  {
   "cell_type": "markdown",
   "id": "0c5c336a-19e7-48ed-b079-647f4d051e90",
   "metadata": {},
   "source": [
    "### Jieba"
   ]
  },
  {
   "cell_type": "code",
   "execution_count": 12,
   "id": "a3e004b5-1941-4891-825e-1b002412afa0",
   "metadata": {},
   "outputs": [],
   "source": [
    "stop_word_path = r\"cn_stopwords.txt\"\n",
    "stop_words = open(stop_word_path,'r',encoding='utf-8').read().split('\\n')+['\\n']"
   ]
  },
  {
   "cell_type": "code",
   "execution_count": null,
   "id": "8d75fecf-396a-4855-ac96-8468bc12746c",
   "metadata": {},
   "outputs": [],
   "source": []
  },
  {
   "cell_type": "code",
   "execution_count": null,
   "id": "245056b8-f9e0-4d78-aba6-94646a4c4e47",
   "metadata": {},
   "outputs": [],
   "source": []
  },
  {
   "cell_type": "markdown",
   "id": "6bca4c49-dd82-40aa-baf1-a719c523c8d1",
   "metadata": {},
   "source": [
    "## Clean Data"
   ]
  },
  {
   "cell_type": "code",
   "execution_count": 13,
   "id": "49dd616c-30ba-4171-9c17-5e4832578142",
   "metadata": {},
   "outputs": [],
   "source": [
    "data_1 = pd.read_excel('data.xlsx', sheet_name=0)\n",
    "data_2 = pd.read_excel('data.xlsx', sheet_name=1)\n",
    "data_3 = pd.read_excel('data.xlsx', sheet_name=2)"
   ]
  },
  {
   "cell_type": "code",
   "execution_count": 14,
   "id": "5b8a6d5b-9418-41fa-b45d-2908cc2e3b80",
   "metadata": {},
   "outputs": [],
   "source": [
    "question_data = data_1.loc[:, ['题目id（唯一）', '题目文本', '题目分值', '该题标准答案（含得分点）']]"
   ]
  },
  {
   "cell_type": "code",
   "execution_count": 15,
   "id": "c2bd13d5-ae35-48e3-a29a-b2899a5d7506",
   "metadata": {},
   "outputs": [],
   "source": [
    "student_data = data_2.loc[:, ['学生id', '题目id', '该生作答文本', '该生作答得分', '该生作答得分点']]"
   ]
  },
  {
   "cell_type": "code",
   "execution_count": 16,
   "id": "10a834c9-b4fe-43f4-b5ba-2bc1a8ebfaf0",
   "metadata": {},
   "outputs": [],
   "source": [
    "question_data = question_data[~reduce(\n",
    "    lambda x, y: x[1] | y[1],\n",
    "    question_data.isna().iteritems()\n",
    ")]"
   ]
  },
  {
   "cell_type": "code",
   "execution_count": 17,
   "id": "30dcf876-255b-428c-ace9-b592709815f0",
   "metadata": {},
   "outputs": [],
   "source": [
    "student_data = student_data[~reduce(\n",
    "    lambda x, y: x[1] | y[1],\n",
    "    student_data.isna().iteritems()\n",
    ")]"
   ]
  },
  {
   "cell_type": "code",
   "execution_count": 18,
   "id": "c40cf1e3-1e74-44de-b034-45bd8280c027",
   "metadata": {},
   "outputs": [],
   "source": [
    "question = pd.DataFrame({\n",
    "    'id': question_data['题目id（唯一）'].apply(\n",
    "        lambda x: '{0[0]:0>2s}{0[1]:0>2s}'.format([\n",
    "            item if item else '0'\n",
    "            for item in re_q_decode.search(x).groups()\n",
    "        ])\n",
    "    ).astype('string'),\n",
    "    'text': question_data['题目文本'].apply(\n",
    "        lambda x: re_whitespace.sub('', x)\n",
    "    ).astype('string'),\n",
    "    'score': question_data['题目分值'].astype(float),\n",
    "    'answer': question_data['该题标准答案（含得分点）'].apply(\n",
    "       lambda x: re_whitespace.sub('', x)\n",
    "    ).astype('string')\n",
    "})\n",
    "question = question.reset_index(drop=True)"
   ]
  },
  {
   "cell_type": "code",
   "execution_count": 19,
   "id": "f6137cfd-2464-4895-a9d2-9e6484946c0e",
   "metadata": {},
   "outputs": [
    {
     "name": "stdout",
     "output_type": "stream",
     "text": [
      "<class 'pandas.core.frame.DataFrame'>\n",
      "RangeIndex: 151 entries, 0 to 150\n",
      "Data columns (total 4 columns):\n",
      " #   Column  Non-Null Count  Dtype  \n",
      "---  ------  --------------  -----  \n",
      " 0   id      151 non-null    string \n",
      " 1   text    151 non-null    string \n",
      " 2   score   151 non-null    float64\n",
      " 3   answer  151 non-null    string \n",
      "dtypes: float64(1), string(3)\n",
      "memory usage: 4.8 KB\n"
     ]
    }
   ],
   "source": [
    "question.info()"
   ]
  },
  {
   "cell_type": "code",
   "execution_count": 20,
   "id": "c653fcf2-c0c0-4208-8ea5-df7d6e5adb1e",
   "metadata": {},
   "outputs": [],
   "source": [
    "student = pd.DataFrame({\n",
    "    'id': student_data['学生id'].apply(\n",
    "        lambda x: int(x) if not pd.isna(x) else '202020000'\n",
    "    ).astype(int),\n",
    "    'q_id': student_data['题目id'].apply(\n",
    "        lambda x: '{0[0]:0>2s}{0[1]:0>2s}'.format([\n",
    "            item if item else '0'\n",
    "            for item in re_q_decode.search(x).groups()\n",
    "        ])\n",
    "    ).astype('string'),\n",
    "    'answer': student_data['该生作答文本'].apply(\n",
    "       lambda x: re_whitespace.sub('', x)\n",
    "    ).astype('string'),\n",
    "    'score': student_data['该生作答得分'].astype(float),\n",
    "    'point': student_data['该生作答得分点'].apply(\n",
    "       lambda x: re_whitespace.sub('', x)\n",
    "    ).astype('string')\n",
    "})\n",
    "student = student.reset_index(drop=True)"
   ]
  },
  {
   "cell_type": "code",
   "execution_count": 21,
   "id": "c624ebec-5c2d-4d33-bbac-bd44a24406c6",
   "metadata": {},
   "outputs": [
    {
     "name": "stdout",
     "output_type": "stream",
     "text": [
      "<class 'pandas.core.frame.DataFrame'>\n",
      "RangeIndex: 151 entries, 0 to 150\n",
      "Data columns (total 5 columns):\n",
      " #   Column  Non-Null Count  Dtype  \n",
      "---  ------  --------------  -----  \n",
      " 0   id      151 non-null    int32  \n",
      " 1   q_id    151 non-null    string \n",
      " 2   answer  151 non-null    string \n",
      " 3   score   151 non-null    float64\n",
      " 4   point   151 non-null    string \n",
      "dtypes: float64(1), int32(1), string(3)\n",
      "memory usage: 5.4 KB\n"
     ]
    }
   ],
   "source": [
    "student.info()"
   ]
  },
  {
   "cell_type": "code",
   "execution_count": 22,
   "id": "7c4eddab-3a5a-464f-9599-06a8d969a2f2",
   "metadata": {},
   "outputs": [
    {
     "data": {
      "text/html": [
       "<div>\n",
       "<style scoped>\n",
       "    .dataframe tbody tr th:only-of-type {\n",
       "        vertical-align: middle;\n",
       "    }\n",
       "\n",
       "    .dataframe tbody tr th {\n",
       "        vertical-align: top;\n",
       "    }\n",
       "\n",
       "    .dataframe thead th {\n",
       "        text-align: right;\n",
       "    }\n",
       "</style>\n",
       "<table border=\"1\" class=\"dataframe\">\n",
       "  <thead>\n",
       "    <tr style=\"text-align: right;\">\n",
       "      <th></th>\n",
       "      <th>id</th>\n",
       "      <th>text</th>\n",
       "      <th>score</th>\n",
       "      <th>answer</th>\n",
       "    </tr>\n",
       "  </thead>\n",
       "  <tbody>\n",
       "    <tr>\n",
       "      <th>0</th>\n",
       "      <td>1100</td>\n",
       "      <td>为推翻北洋军阀的反动通知和抗击日本侵略、挽救民族危亡、国共两党曾两次合作。请分别说出国共两次...</td>\n",
       "      <td>4.0</td>\n",
       "      <td>第一次国共合作，进行国民革命运动，有力推动了北伐战争的胜利，推翻北洋军阀统治（2分）；第二次...</td>\n",
       "    </tr>\n",
       "    <tr>\n",
       "      <th>1</th>\n",
       "      <td>1701</td>\n",
       "      <td>列举孙中山领导辛亥革命的指导思想</td>\n",
       "      <td>4.0</td>\n",
       "      <td>三民主义（1分）；民族（1分）；民权（1分）；民生（1分）。</td>\n",
       "    </tr>\n",
       "    <tr>\n",
       "      <th>2</th>\n",
       "      <td>1702</td>\n",
       "      <td>列举第一，二次工业革命中出现的新式交通工具</td>\n",
       "      <td>4.0</td>\n",
       "      <td>轮船（1分）；火车（1分）；汽车（1分）；飞机（1分）。</td>\n",
       "    </tr>\n",
       "    <tr>\n",
       "      <th>3</th>\n",
       "      <td>1703</td>\n",
       "      <td>列举《南京条约》《马关条约》中被列强割占的地方？</td>\n",
       "      <td>6.0</td>\n",
       "      <td>《南京条约》，英国（1分）；香港岛（1分）；《马关条约》，日本（1分）；辽东半岛（1分）；台...</td>\n",
       "    </tr>\n",
       "    <tr>\n",
       "      <th>4</th>\n",
       "      <td>0201</td>\n",
       "      <td>对“唐太宗与贞观之治的评价”</td>\n",
       "      <td>6.0</td>\n",
       "      <td>（1）知人善任（1分），他用人不计较资历出身，不计亲疏恩怨，凡有治国安邦之才，都委以重任。（...</td>\n",
       "    </tr>\n",
       "    <tr>\n",
       "      <th>...</th>\n",
       "      <td>...</td>\n",
       "      <td>...</td>\n",
       "      <td>...</td>\n",
       "      <td>...</td>\n",
       "    </tr>\n",
       "    <tr>\n",
       "      <th>146</th>\n",
       "      <td>1908</td>\n",
       "      <td>唐太宗统治时期出现了怎样的政治、经济局面?</td>\n",
       "      <td>2.0</td>\n",
       "      <td>政治局面:①政治清明;②社会秩序相对安定;③阶级矛盾相对缓和;④民族团结。(答出任意:一点即...</td>\n",
       "    </tr>\n",
       "    <tr>\n",
       "      <th>147</th>\n",
       "      <td>1909</td>\n",
       "      <td>第一个与新中国建交的是哪一国家?中国长期以来奉行怎样的外交政策以及外交理念?</td>\n",
       "      <td>3.0</td>\n",
       "      <td>国家:苏联。(1分)政策:独立自主的和平外交政策。(1分)理念:共商共建共享的全球治理观，构...</td>\n",
       "    </tr>\n",
       "    <tr>\n",
       "      <th>148</th>\n",
       "      <td>2001</td>\n",
       "      <td>美国独立战争爆发的导火索和原因？</td>\n",
       "      <td>4.0</td>\n",
       "      <td>导火索：波士顿倾茶事件（2）根本原因：为了独立自主，为了反抗英国对殖民地的无休止的压榨。（2）</td>\n",
       "    </tr>\n",
       "    <tr>\n",
       "      <th>149</th>\n",
       "      <td>2002</td>\n",
       "      <td>新文化运动的意义</td>\n",
       "      <td>3.0</td>\n",
       "      <td>动摇了封建思想的统治地位,人们的思想得到空前解放。（0.5分）；民主和科学思想得到弘扬,推动...</td>\n",
       "    </tr>\n",
       "    <tr>\n",
       "      <th>150</th>\n",
       "      <td>2003</td>\n",
       "      <td>遵义会议的主要内容和意义</td>\n",
       "      <td>5.0</td>\n",
       "      <td>(1)主要内容：会议解决了博古等人在军事上和组织上的错误，取消了博古等人在军事上的指挥权，肯...</td>\n",
       "    </tr>\n",
       "  </tbody>\n",
       "</table>\n",
       "<p>151 rows × 4 columns</p>\n",
       "</div>"
      ],
      "text/plain": [
       "       id                                               text  score  \\\n",
       "0    1100  为推翻北洋军阀的反动通知和抗击日本侵略、挽救民族危亡、国共两党曾两次合作。请分别说出国共两次...    4.0   \n",
       "1    1701                                   列举孙中山领导辛亥革命的指导思想    4.0   \n",
       "2    1702                              列举第一，二次工业革命中出现的新式交通工具    4.0   \n",
       "3    1703                           列举《南京条约》《马关条约》中被列强割占的地方？    6.0   \n",
       "4    0201                                     对“唐太宗与贞观之治的评价”    6.0   \n",
       "..    ...                                                ...    ...   \n",
       "146  1908                              唐太宗统治时期出现了怎样的政治、经济局面?    2.0   \n",
       "147  1909             第一个与新中国建交的是哪一国家?中国长期以来奉行怎样的外交政策以及外交理念?    3.0   \n",
       "148  2001                                   美国独立战争爆发的导火索和原因？    4.0   \n",
       "149  2002                                           新文化运动的意义    3.0   \n",
       "150  2003                                       遵义会议的主要内容和意义    5.0   \n",
       "\n",
       "                                                answer  \n",
       "0    第一次国共合作，进行国民革命运动，有力推动了北伐战争的胜利，推翻北洋军阀统治（2分）；第二次...  \n",
       "1                       三民主义（1分）；民族（1分）；民权（1分）；民生（1分）。  \n",
       "2                         轮船（1分）；火车（1分）；汽车（1分）；飞机（1分）。  \n",
       "3    《南京条约》，英国（1分）；香港岛（1分）；《马关条约》，日本（1分）；辽东半岛（1分）；台...  \n",
       "4    （1）知人善任（1分），他用人不计较资历出身，不计亲疏恩怨，凡有治国安邦之才，都委以重任。（...  \n",
       "..                                                 ...  \n",
       "146  政治局面:①政治清明;②社会秩序相对安定;③阶级矛盾相对缓和;④民族团结。(答出任意:一点即...  \n",
       "147  国家:苏联。(1分)政策:独立自主的和平外交政策。(1分)理念:共商共建共享的全球治理观，构...  \n",
       "148    导火索：波士顿倾茶事件（2）根本原因：为了独立自主，为了反抗英国对殖民地的无休止的压榨。（2）  \n",
       "149  动摇了封建思想的统治地位,人们的思想得到空前解放。（0.5分）；民主和科学思想得到弘扬,推动...  \n",
       "150  (1)主要内容：会议解决了博古等人在军事上和组织上的错误，取消了博古等人在军事上的指挥权，肯...  \n",
       "\n",
       "[151 rows x 4 columns]"
      ]
     },
     "execution_count": 22,
     "metadata": {},
     "output_type": "execute_result"
    }
   ],
   "source": [
    "question"
   ]
  },
  {
   "cell_type": "code",
   "execution_count": 23,
   "id": "907197b4-9ab3-442b-a2fd-bb3372724159",
   "metadata": {},
   "outputs": [
    {
     "data": {
      "text/plain": [
       "0     第一次国共合作的形成加快了中国革命前进步伐.合作失败后，使党开始成长，懂得了进行土地革命和掌...\n",
       "1                                         三民主义：民族，民权，民生\n",
       "2                                                 飞机，火车\n",
       "3                    《南京条约》中英国割让香港岛；《马关条约》中日本割让辽东半岛和台湾岛\n",
       "4                                              民权、民族、民生\n",
       "                            ...                        \n",
       "95                    南方温暖湿润，土地肥沃，有利于农业发展经过统治者和老百姓的长期开发\n",
       "96                                     割香港岛给英国;赔款2100万元\n",
       "97                                             反帝反封建；爱国\n",
       "98                              和平共处；互相尊重国家主权；互惠互利；共同发展\n",
       "99                                            推翻北洋军阀的统治\n",
       "Name: answer, Length: 100, dtype: string"
      ]
     },
     "execution_count": 23,
     "metadata": {},
     "output_type": "execute_result"
    }
   ],
   "source": [
    "student['answer'][:100]"
   ]
  },
  {
   "cell_type": "code",
   "execution_count": 24,
   "id": "90d7031f-ecfb-405c-8bf8-c9261332b922",
   "metadata": {},
   "outputs": [],
   "source": [
    "student.to_csv('student.csv', index=False, encoding='utf-8_sig')\n",
    "question.to_csv('question.csv', index=False, encoding='utf-8_sig')"
   ]
  },
  {
   "cell_type": "markdown",
   "id": "8e905795-296b-4213-9e8a-3fee4d1b0176",
   "metadata": {},
   "source": [
    "## Processing"
   ]
  },
  {
   "cell_type": "markdown",
   "id": "c5e4d605-7f5a-4252-bb61-9ae05bbb9b18",
   "metadata": {},
   "source": [
    "### Answer Points Table"
   ]
  },
  {
   "cell_type": "code",
   "execution_count": 25,
   "id": "d6eb230d-6441-4569-a81e-b5d323b2a518",
   "metadata": {},
   "outputs": [],
   "source": [
    "def get_point_score():\n",
    "    info_dict = {\n",
    "        \"q_id\": list(),\n",
    "        \"p_id\": list(),\n",
    "        \"point\": list(),\n",
    "        \"p_score\": list(),\n",
    "    }\n",
    "    temp_point_score = []\n",
    "    \n",
    "    for k, item in question['answer'].iteritems():\n",
    "        ans_split = re_p_score.split(item)\n",
    "        ans_tuple = [\n",
    "            (ans_split[i*2], float(ans_split[i*2+1])) \n",
    "            for i in range(len(ans_split) // 2)\n",
    "        ]\n",
    "        if not ans_tuple:\n",
    "            ans_tuple = [(item, question['score'][k])]\n",
    "        temp_point_score.append(ans_tuple)\n",
    "    \n",
    "    for k, item in enumerate(temp_point_score):\n",
    "        for i, point in enumerate(item):\n",
    "            info_dict[\"q_id\"].append(k)\n",
    "            info_dict[\"p_id\"].append(i)\n",
    "            info_dict[\"point\"].append(point[0])\n",
    "            info_dict[\"p_score\"].append(point[1])\n",
    "\n",
    "    return pd.DataFrame(info_dict)"
   ]
  },
  {
   "cell_type": "code",
   "execution_count": 26,
   "id": "e883f9c3-1669-4ba3-a5e1-e48a9c3a8885",
   "metadata": {},
   "outputs": [],
   "source": [
    "answer = get_point_score()"
   ]
  },
  {
   "cell_type": "code",
   "execution_count": 27,
   "id": "930c7924-90fa-4ea5-99bc-7ded5af786d4",
   "metadata": {},
   "outputs": [
    {
     "data": {
      "text/html": [
       "<div>\n",
       "<style scoped>\n",
       "    .dataframe tbody tr th:only-of-type {\n",
       "        vertical-align: middle;\n",
       "    }\n",
       "\n",
       "    .dataframe tbody tr th {\n",
       "        vertical-align: top;\n",
       "    }\n",
       "\n",
       "    .dataframe thead th {\n",
       "        text-align: right;\n",
       "    }\n",
       "</style>\n",
       "<table border=\"1\" class=\"dataframe\">\n",
       "  <thead>\n",
       "    <tr style=\"text-align: right;\">\n",
       "      <th></th>\n",
       "      <th>q_id</th>\n",
       "      <th>p_id</th>\n",
       "      <th>point</th>\n",
       "      <th>p_score</th>\n",
       "    </tr>\n",
       "  </thead>\n",
       "  <tbody>\n",
       "    <tr>\n",
       "      <th>0</th>\n",
       "      <td>0</td>\n",
       "      <td>0</td>\n",
       "      <td>第一次国共合作，进行国民革命运动，有力推动了北伐战争的胜利，推翻北洋军阀统治</td>\n",
       "      <td>2.0</td>\n",
       "    </tr>\n",
       "    <tr>\n",
       "      <th>1</th>\n",
       "      <td>0</td>\n",
       "      <td>1</td>\n",
       "      <td>；第二次国共合作，建立抗日民族统一展现，领导全民族抗战，成为抗日胜利的保障</td>\n",
       "      <td>2.0</td>\n",
       "    </tr>\n",
       "    <tr>\n",
       "      <th>2</th>\n",
       "      <td>1</td>\n",
       "      <td>0</td>\n",
       "      <td>三民主义</td>\n",
       "      <td>1.0</td>\n",
       "    </tr>\n",
       "    <tr>\n",
       "      <th>3</th>\n",
       "      <td>1</td>\n",
       "      <td>1</td>\n",
       "      <td>；民族</td>\n",
       "      <td>1.0</td>\n",
       "    </tr>\n",
       "    <tr>\n",
       "      <th>4</th>\n",
       "      <td>1</td>\n",
       "      <td>2</td>\n",
       "      <td>；民权</td>\n",
       "      <td>1.0</td>\n",
       "    </tr>\n",
       "    <tr>\n",
       "      <th>...</th>\n",
       "      <td>...</td>\n",
       "      <td>...</td>\n",
       "      <td>...</td>\n",
       "      <td>...</td>\n",
       "    </tr>\n",
       "    <tr>\n",
       "      <th>432</th>\n",
       "      <td>149</td>\n",
       "      <td>2</td>\n",
       "      <td>；为五四运动爆发起了思想宣传动员作用。</td>\n",
       "      <td>0.5</td>\n",
       "    </tr>\n",
       "    <tr>\n",
       "      <th>433</th>\n",
       "      <td>149</td>\n",
       "      <td>3</td>\n",
       "      <td>；后期传播的社会主义思想,为中国先进知识分子所接受,作为拯救国家、改造社会的思想武器。</td>\n",
       "      <td>0.5</td>\n",
       "    </tr>\n",
       "    <tr>\n",
       "      <th>434</th>\n",
       "      <td>149</td>\n",
       "      <td>4</td>\n",
       "      <td>；有利于文化的普及和繁荣。</td>\n",
       "      <td>0.5</td>\n",
       "    </tr>\n",
       "    <tr>\n",
       "      <th>435</th>\n",
       "      <td>149</td>\n",
       "      <td>5</td>\n",
       "      <td>；对东西方文化存在绝对肯定或绝对否定的偏向,一直影响到后来。</td>\n",
       "      <td>5.0</td>\n",
       "    </tr>\n",
       "    <tr>\n",
       "      <th>436</th>\n",
       "      <td>150</td>\n",
       "      <td>0</td>\n",
       "      <td>(1)主要内容：会议解决了博古等人在军事上和组织上的错误，取消了博古等人在军事上的指挥权，肯...</td>\n",
       "      <td>5.0</td>\n",
       "    </tr>\n",
       "  </tbody>\n",
       "</table>\n",
       "<p>437 rows × 4 columns</p>\n",
       "</div>"
      ],
      "text/plain": [
       "     q_id  p_id                                              point  p_score\n",
       "0       0     0             第一次国共合作，进行国民革命运动，有力推动了北伐战争的胜利，推翻北洋军阀统治      2.0\n",
       "1       0     1              ；第二次国共合作，建立抗日民族统一展现，领导全民族抗战，成为抗日胜利的保障      2.0\n",
       "2       1     0                                               三民主义      1.0\n",
       "3       1     1                                                ；民族      1.0\n",
       "4       1     2                                                ；民权      1.0\n",
       "..    ...   ...                                                ...      ...\n",
       "432   149     2                                ；为五四运动爆发起了思想宣传动员作用。      0.5\n",
       "433   149     3        ；后期传播的社会主义思想,为中国先进知识分子所接受,作为拯救国家、改造社会的思想武器。      0.5\n",
       "434   149     4                                      ；有利于文化的普及和繁荣。      0.5\n",
       "435   149     5                     ；对东西方文化存在绝对肯定或绝对否定的偏向,一直影响到后来。      5.0\n",
       "436   150     0  (1)主要内容：会议解决了博古等人在军事上和组织上的错误，取消了博古等人在军事上的指挥权，肯...      5.0\n",
       "\n",
       "[437 rows x 4 columns]"
      ]
     },
     "execution_count": 27,
     "metadata": {},
     "output_type": "execute_result"
    }
   ],
   "source": [
    "answer"
   ]
  },
  {
   "cell_type": "markdown",
   "id": "75dea175-2618-4cad-bf36-b37f083d67eb",
   "metadata": {},
   "source": [
    "### Split Point words"
   ]
  },
  {
   "cell_type": "markdown",
   "id": "f49ccf3a-45c5-42a9-a273-b5138a6fcb55",
   "metadata": {},
   "source": [
    "#### Standard Answer"
   ]
  },
  {
   "cell_type": "code",
   "execution_count": 28,
   "id": "5cb193c3-5f76-4edb-b9f4-61cf9ea7ad54",
   "metadata": {},
   "outputs": [],
   "source": [
    "def split_point_words(point):\n",
    "    text = re_serial.sub(\"\\n\", point)\n",
    "    text = re.split(\"\\n\", text)\n",
    "    text = [\n",
    "        re_cn_score.sub(\n",
    "            '', re_slash.sub('', temp)\n",
    "        )\n",
    "        for sub_item in text\n",
    "        for temp in re_cn_punc.split(sub_item)\n",
    "        if sub_item if temp\n",
    "    ]\n",
    "    return text"
   ]
  },
  {
   "cell_type": "code",
   "execution_count": 29,
   "id": "9660c5e2-39c5-4435-9a29-7b9cd18d93c1",
   "metadata": {},
   "outputs": [],
   "source": [
    "def cut_point(point):\n",
    "    cut_list = []\n",
    "    words_list = split_point_words(point)\n",
    "    \n",
    "    for item in words_list:\n",
    "        cut_list.extend(jieba.lcut(item))\n",
    "\n",
    "#     cut_list = reduce(\n",
    "#         lambda x,y: x if y in x else x + [y],\n",
    "#         [[], ] + sorted(cut_list)\n",
    "#     )\n",
    "    \n",
    "    cut_list = list(filter(\n",
    "        lambda x: x not in stop_words,\n",
    "        cut_list\n",
    "    ))\n",
    "\n",
    "    return cut_list"
   ]
  },
  {
   "cell_type": "code",
   "execution_count": 30,
   "id": "2c07e47d-60b7-4926-9d03-c8413c4747c9",
   "metadata": {},
   "outputs": [],
   "source": [
    "def decode_words(point):\n",
    "    words = cut_point(point)\n",
    "    return '\\t'.join(words)"
   ]
  },
  {
   "cell_type": "code",
   "execution_count": 31,
   "id": "cd151a7f-88cf-4efd-ac47-c764321447cc",
   "metadata": {},
   "outputs": [
    {
     "name": "stderr",
     "output_type": "stream",
     "text": [
      "Building prefix dict from the default dictionary ...\n",
      "Loading model from cache C:\\Users\\east\\AppData\\Local\\Temp\\jieba.cache\n",
      "Loading model cost 0.896 seconds.\n",
      "Prefix dict has been built successfully.\n"
     ]
    }
   ],
   "source": [
    "answer['words'] = answer['point'].apply(\n",
    "    decode_words\n",
    ").astype('string')\n",
    "answer = answer.drop('point', axis=1)"
   ]
  },
  {
   "cell_type": "code",
   "execution_count": 32,
   "id": "fac03830-fc13-4893-aae6-834497cc8a7e",
   "metadata": {},
   "outputs": [
    {
     "data": {
      "text/html": [
       "<div>\n",
       "<style scoped>\n",
       "    .dataframe tbody tr th:only-of-type {\n",
       "        vertical-align: middle;\n",
       "    }\n",
       "\n",
       "    .dataframe tbody tr th {\n",
       "        vertical-align: top;\n",
       "    }\n",
       "\n",
       "    .dataframe thead th {\n",
       "        text-align: right;\n",
       "    }\n",
       "</style>\n",
       "<table border=\"1\" class=\"dataframe\">\n",
       "  <thead>\n",
       "    <tr style=\"text-align: right;\">\n",
       "      <th></th>\n",
       "      <th>q_id</th>\n",
       "      <th>p_id</th>\n",
       "      <th>p_score</th>\n",
       "      <th>words</th>\n",
       "    </tr>\n",
       "  </thead>\n",
       "  <tbody>\n",
       "    <tr>\n",
       "      <th>0</th>\n",
       "      <td>0</td>\n",
       "      <td>0</td>\n",
       "      <td>2.0</td>\n",
       "      <td>第一次\t国共合作\t进行\t国民革命\t运动\t有力\t推动\t北伐战争\t胜利\t推翻\t北洋军阀\t统治</td>\n",
       "    </tr>\n",
       "    <tr>\n",
       "      <th>1</th>\n",
       "      <td>0</td>\n",
       "      <td>1</td>\n",
       "      <td>2.0</td>\n",
       "      <td>第二次\t国共合作\t建立\t抗日\t民族\t统一\t展现\t领导\t全\t民族\t抗战\t成为\t抗日\t胜利\t保障</td>\n",
       "    </tr>\n",
       "    <tr>\n",
       "      <th>2</th>\n",
       "      <td>1</td>\n",
       "      <td>0</td>\n",
       "      <td>1.0</td>\n",
       "      <td>三民主义</td>\n",
       "    </tr>\n",
       "    <tr>\n",
       "      <th>3</th>\n",
       "      <td>1</td>\n",
       "      <td>1</td>\n",
       "      <td>1.0</td>\n",
       "      <td>民族</td>\n",
       "    </tr>\n",
       "    <tr>\n",
       "      <th>4</th>\n",
       "      <td>1</td>\n",
       "      <td>2</td>\n",
       "      <td>1.0</td>\n",
       "      <td>民权</td>\n",
       "    </tr>\n",
       "    <tr>\n",
       "      <th>...</th>\n",
       "      <td>...</td>\n",
       "      <td>...</td>\n",
       "      <td>...</td>\n",
       "      <td>...</td>\n",
       "    </tr>\n",
       "    <tr>\n",
       "      <th>432</th>\n",
       "      <td>149</td>\n",
       "      <td>2</td>\n",
       "      <td>0.5</td>\n",
       "      <td>五四运动\t爆发\t思想\t宣传\t动员\t作用</td>\n",
       "    </tr>\n",
       "    <tr>\n",
       "      <th>433</th>\n",
       "      <td>149</td>\n",
       "      <td>3</td>\n",
       "      <td>0.5</td>\n",
       "      <td>后期\t传播\t社会主义\t思想\t中国\t先进\t知识分子\t接受\t拯救\t国家\t改造社会\t思想\t武器</td>\n",
       "    </tr>\n",
       "    <tr>\n",
       "      <th>434</th>\n",
       "      <td>149</td>\n",
       "      <td>4</td>\n",
       "      <td>0.5</td>\n",
       "      <td>有利于\t文化\t普及\t繁荣</td>\n",
       "    </tr>\n",
       "    <tr>\n",
       "      <th>435</th>\n",
       "      <td>149</td>\n",
       "      <td>5</td>\n",
       "      <td>5.0</td>\n",
       "      <td>东西方\t文化\t存在\t绝对\t肯定\t绝对\t否定\t偏向\t一直\t影响\t后来</td>\n",
       "    </tr>\n",
       "    <tr>\n",
       "      <th>436</th>\n",
       "      <td>150</td>\n",
       "      <td>0</td>\n",
       "      <td>5.0</td>\n",
       "      <td>主要\t内容\t会议\t解决\t博古\t军事\t组织\t错误\t取消\t博古\t军事\t指挥权\t肯定\t毛泽东\t正确...</td>\n",
       "    </tr>\n",
       "  </tbody>\n",
       "</table>\n",
       "<p>437 rows × 4 columns</p>\n",
       "</div>"
      ],
      "text/plain": [
       "     q_id  p_id  p_score                                              words\n",
       "0       0     0      2.0       第一次\t国共合作\t进行\t国民革命\t运动\t有力\t推动\t北伐战争\t胜利\t推翻\t北洋军阀\t统治\n",
       "1       0     1      2.0     第二次\t国共合作\t建立\t抗日\t民族\t统一\t展现\t领导\t全\t民族\t抗战\t成为\t抗日\t胜利\t保障\n",
       "2       1     0      1.0                                               三民主义\n",
       "3       1     1      1.0                                                 民族\n",
       "4       1     2      1.0                                                 民权\n",
       "..    ...   ...      ...                                                ...\n",
       "432   149     2      0.5                                五四运动\t爆发\t思想\t宣传\t动员\t作用\n",
       "433   149     3      0.5       后期\t传播\t社会主义\t思想\t中国\t先进\t知识分子\t接受\t拯救\t国家\t改造社会\t思想\t武器\n",
       "434   149     4      0.5                                       有利于\t文化\t普及\t繁荣\n",
       "435   149     5      5.0                  东西方\t文化\t存在\t绝对\t肯定\t绝对\t否定\t偏向\t一直\t影响\t后来\n",
       "436   150     0      5.0  主要\t内容\t会议\t解决\t博古\t军事\t组织\t错误\t取消\t博古\t军事\t指挥权\t肯定\t毛泽东\t正确...\n",
       "\n",
       "[437 rows x 4 columns]"
      ]
     },
     "execution_count": 32,
     "metadata": {},
     "output_type": "execute_result"
    }
   ],
   "source": [
    "answer"
   ]
  },
  {
   "cell_type": "code",
   "execution_count": 33,
   "id": "77b18073-4ba4-4949-b2fc-5949073710ef",
   "metadata": {},
   "outputs": [],
   "source": [
    "answer.to_csv('answer.csv', index=False, encoding='utf-8_sig')"
   ]
  },
  {
   "cell_type": "markdown",
   "id": "fec6cca2-38fd-489e-9dea-3faec7daee79",
   "metadata": {},
   "source": [
    "#### Student Answer"
   ]
  },
  {
   "cell_type": "code",
   "execution_count": 34,
   "id": "6e194996-f93d-45a2-887a-5e6ec81d4f7e",
   "metadata": {},
   "outputs": [],
   "source": [
    "student['words'] = student['answer'].apply(\n",
    "    decode_words\n",
    ").astype('string')"
   ]
  },
  {
   "cell_type": "code",
   "execution_count": 35,
   "id": "a0397870-bddc-4a7a-9b3b-7498fec5c951",
   "metadata": {},
   "outputs": [],
   "source": [
    "student = student.drop('answer', axis=1)"
   ]
  },
  {
   "cell_type": "code",
   "execution_count": 36,
   "id": "911a6379-c4e4-4f29-98fe-afcde76bda49",
   "metadata": {},
   "outputs": [
    {
     "data": {
      "text/html": [
       "<div>\n",
       "<style scoped>\n",
       "    .dataframe tbody tr th:only-of-type {\n",
       "        vertical-align: middle;\n",
       "    }\n",
       "\n",
       "    .dataframe tbody tr th {\n",
       "        vertical-align: top;\n",
       "    }\n",
       "\n",
       "    .dataframe thead th {\n",
       "        text-align: right;\n",
       "    }\n",
       "</style>\n",
       "<table border=\"1\" class=\"dataframe\">\n",
       "  <thead>\n",
       "    <tr style=\"text-align: right;\">\n",
       "      <th></th>\n",
       "      <th>id</th>\n",
       "      <th>q_id</th>\n",
       "      <th>score</th>\n",
       "      <th>point</th>\n",
       "      <th>words</th>\n",
       "    </tr>\n",
       "  </thead>\n",
       "  <tbody>\n",
       "    <tr>\n",
       "      <th>0</th>\n",
       "      <td>20210001</td>\n",
       "      <td>1100</td>\n",
       "      <td>2.0</td>\n",
       "      <td>推翻北洋军阀统治（2分）</td>\n",
       "      <td>第一次\t国共合作\t形成\t加快\t中国\t革命\t前进\t步伐\t合作\t失败\t使党\t成长\t懂得\t进行\t土...</td>\n",
       "    </tr>\n",
       "    <tr>\n",
       "      <th>1</th>\n",
       "      <td>202032195</td>\n",
       "      <td>1701</td>\n",
       "      <td>4.0</td>\n",
       "      <td>三民主义（1分）；民族（1分）；民权（1分）；民生（1分）</td>\n",
       "      <td>三民主义\t民族\t民权\t民生</td>\n",
       "    </tr>\n",
       "    <tr>\n",
       "      <th>2</th>\n",
       "      <td>202032195</td>\n",
       "      <td>1702</td>\n",
       "      <td>2.0</td>\n",
       "      <td>火车（1分）；飞机（1分）</td>\n",
       "      <td>飞机\t火车</td>\n",
       "    </tr>\n",
       "    <tr>\n",
       "      <th>3</th>\n",
       "      <td>202032195</td>\n",
       "      <td>1703</td>\n",
       "      <td>5.0</td>\n",
       "      <td>《南京条约》，英国（1分）；香港岛（1分）；《马关条约》，日本（1分）；辽东半岛（1分）；台...</td>\n",
       "      <td>南京\t条约\t中\t英国\t割让\t香港岛\t马关条约\t中\t日本\t割让\t辽东半岛\t台湾岛</td>\n",
       "    </tr>\n",
       "    <tr>\n",
       "      <th>4</th>\n",
       "      <td>202032181</td>\n",
       "      <td>1701</td>\n",
       "      <td>3.0</td>\n",
       "      <td>民族（1分）；民权（1分）；民生（1分）</td>\n",
       "      <td>民权\t民族\t民生</td>\n",
       "    </tr>\n",
       "    <tr>\n",
       "      <th>...</th>\n",
       "      <td>...</td>\n",
       "      <td>...</td>\n",
       "      <td>...</td>\n",
       "      <td>...</td>\n",
       "      <td>...</td>\n",
       "    </tr>\n",
       "    <tr>\n",
       "      <th>146</th>\n",
       "      <td>202032141</td>\n",
       "      <td>1908</td>\n",
       "      <td>1.0</td>\n",
       "      <td>社会稳定（1分）</td>\n",
       "      <td>经济\t人民\t生活\t水平\t提高\t政治\t社会\t稳定\t吏治\t清明</td>\n",
       "    </tr>\n",
       "    <tr>\n",
       "      <th>147</th>\n",
       "      <td>202032141</td>\n",
       "      <td>1909</td>\n",
       "      <td>3.0</td>\n",
       "      <td>苏联（1分）；独立自主（1分）；共商共建共治（1分）</td>\n",
       "      <td>国家\t前\t苏联\t政策\t独立自主\t和平\t外交政策\t理念\t共商\t共建\t共治\t全球\t治理\t观</td>\n",
       "    </tr>\n",
       "    <tr>\n",
       "      <th>148</th>\n",
       "      <td>202032184</td>\n",
       "      <td>2001</td>\n",
       "      <td>4.0</td>\n",
       "      <td>波士顿倾茶事件（2）；独立自主（2）</td>\n",
       "      <td>导火索\t波士顿\t倾茶\t事件\t原因\t独立自主</td>\n",
       "    </tr>\n",
       "    <tr>\n",
       "      <th>149</th>\n",
       "      <td>202032184</td>\n",
       "      <td>2002</td>\n",
       "      <td>1.5</td>\n",
       "      <td>动摇了封建思想的统治地位（0.5）；民主和科学思想（0.5）；新思想的传播（0.5）</td>\n",
       "      <td>新文化运动\t我国\t历史\t一次\t空前\t思想\t解放运动\t彻底\t动摇\t封建思想\t统治\t地位\t国民\t...</td>\n",
       "    </tr>\n",
       "    <tr>\n",
       "      <th>150</th>\n",
       "      <td>202032184</td>\n",
       "      <td>2003</td>\n",
       "      <td>4.0</td>\n",
       "      <td>毛泽东，领导地位（2）；挽救，转折点（2）</td>\n",
       "      <td>主要\t内容\t确定\t毛泽东\t军事\t领导\t地位\t意义\t挽救\t红军\t挽救\t党\t党\t历史\t生死攸关\t转折点</td>\n",
       "    </tr>\n",
       "  </tbody>\n",
       "</table>\n",
       "<p>151 rows × 5 columns</p>\n",
       "</div>"
      ],
      "text/plain": [
       "            id  q_id  score  \\\n",
       "0     20210001  1100    2.0   \n",
       "1    202032195  1701    4.0   \n",
       "2    202032195  1702    2.0   \n",
       "3    202032195  1703    5.0   \n",
       "4    202032181  1701    3.0   \n",
       "..         ...   ...    ...   \n",
       "146  202032141  1908    1.0   \n",
       "147  202032141  1909    3.0   \n",
       "148  202032184  2001    4.0   \n",
       "149  202032184  2002    1.5   \n",
       "150  202032184  2003    4.0   \n",
       "\n",
       "                                                 point  \\\n",
       "0                                         推翻北洋军阀统治（2分）   \n",
       "1                        三民主义（1分）；民族（1分）；民权（1分）；民生（1分）   \n",
       "2                                        火车（1分）；飞机（1分）   \n",
       "3    《南京条约》，英国（1分）；香港岛（1分）；《马关条约》，日本（1分）；辽东半岛（1分）；台...   \n",
       "4                                 民族（1分）；民权（1分）；民生（1分）   \n",
       "..                                                 ...   \n",
       "146                                           社会稳定（1分）   \n",
       "147                         苏联（1分）；独立自主（1分）；共商共建共治（1分）   \n",
       "148                                 波士顿倾茶事件（2）；独立自主（2）   \n",
       "149         动摇了封建思想的统治地位（0.5）；民主和科学思想（0.5）；新思想的传播（0.5）   \n",
       "150                              毛泽东，领导地位（2）；挽救，转折点（2）   \n",
       "\n",
       "                                                 words  \n",
       "0    第一次\t国共合作\t形成\t加快\t中国\t革命\t前进\t步伐\t合作\t失败\t使党\t成长\t懂得\t进行\t土...  \n",
       "1                                        三民主义\t民族\t民权\t民生  \n",
       "2                                                飞机\t火车  \n",
       "3              南京\t条约\t中\t英国\t割让\t香港岛\t马关条约\t中\t日本\t割让\t辽东半岛\t台湾岛  \n",
       "4                                             民权\t民族\t民生  \n",
       "..                                                 ...  \n",
       "146                      经济\t人民\t生活\t水平\t提高\t政治\t社会\t稳定\t吏治\t清明  \n",
       "147        国家\t前\t苏联\t政策\t独立自主\t和平\t外交政策\t理念\t共商\t共建\t共治\t全球\t治理\t观  \n",
       "148                              导火索\t波士顿\t倾茶\t事件\t原因\t独立自主  \n",
       "149  新文化运动\t我国\t历史\t一次\t空前\t思想\t解放运动\t彻底\t动摇\t封建思想\t统治\t地位\t国民\t...  \n",
       "150  主要\t内容\t确定\t毛泽东\t军事\t领导\t地位\t意义\t挽救\t红军\t挽救\t党\t党\t历史\t生死攸关\t转折点  \n",
       "\n",
       "[151 rows x 5 columns]"
      ]
     },
     "execution_count": 36,
     "metadata": {},
     "output_type": "execute_result"
    }
   ],
   "source": [
    "student"
   ]
  },
  {
   "cell_type": "code",
   "execution_count": 37,
   "id": "b398f6e9-0e40-493a-a7a4-3677dd1a01cf",
   "metadata": {},
   "outputs": [],
   "source": [
    "student.to_csv('student.csv', index=False, encoding='utf-8_sig')"
   ]
  },
  {
   "cell_type": "markdown",
   "id": "d17a8187-0d95-482b-b6f8-3922363228be",
   "metadata": {},
   "source": [
    "### IDF"
   ]
  },
  {
   "cell_type": "code",
   "execution_count": 41,
   "id": "041cde0d-3d9a-46eb-a0b6-4a646b342c3c",
   "metadata": {},
   "outputs": [
    {
     "data": {
      "text/plain": [
       "\u001b[1;31mSignature:\u001b[0m\n",
       "\u001b[0mjieba\u001b[0m\u001b[1;33m.\u001b[0m\u001b[0manalyse\u001b[0m\u001b[1;33m.\u001b[0m\u001b[0mextract_tags\u001b[0m\u001b[1;33m(\u001b[0m\u001b[1;33m\n",
       "\u001b[0m    \u001b[0msentence\u001b[0m\u001b[1;33m,\u001b[0m\u001b[1;33m\n",
       "\u001b[0m    \u001b[0mtopK\u001b[0m\u001b[1;33m=\u001b[0m\u001b[1;36m20\u001b[0m\u001b[1;33m,\u001b[0m\u001b[1;33m\n",
       "\u001b[0m    \u001b[0mwithWeight\u001b[0m\u001b[1;33m=\u001b[0m\u001b[1;32mFalse\u001b[0m\u001b[1;33m,\u001b[0m\u001b[1;33m\n",
       "\u001b[0m    \u001b[0mallowPOS\u001b[0m\u001b[1;33m=\u001b[0m\u001b[1;33m(\u001b[0m\u001b[1;33m)\u001b[0m\u001b[1;33m,\u001b[0m\u001b[1;33m\n",
       "\u001b[0m    \u001b[0mwithFlag\u001b[0m\u001b[1;33m=\u001b[0m\u001b[1;32mFalse\u001b[0m\u001b[1;33m,\u001b[0m\u001b[1;33m\n",
       "\u001b[0m\u001b[1;33m)\u001b[0m\u001b[1;33m\u001b[0m\u001b[1;33m\u001b[0m\u001b[0m\n",
       "\u001b[1;31mDocstring:\u001b[0m\n",
       "Extract keywords from sentence using TF-IDF algorithm.\n",
       "Parameter:\n",
       "    - topK: return how many top keywords. `None` for all possible words.\n",
       "    - withWeight: if True, return a list of (word, weight);\n",
       "                  if False, return a list of words.\n",
       "    - allowPOS: the allowed POS list eg. ['ns', 'n', 'vn', 'v','nr'].\n",
       "                if the POS of w is not in this list,it will be filtered.\n",
       "    - withFlag: only work with allowPOS is not empty.\n",
       "                if True, return a list of pair(word, weight) like posseg.cut\n",
       "                if False, return a list of words\n",
       "\u001b[1;31mFile:\u001b[0m      c:\\environment\\python\\python39\\lib\\site-packages\\jieba\\analyse\\tfidf.py\n",
       "\u001b[1;31mType:\u001b[0m      method\n"
      ]
     },
     "metadata": {},
     "output_type": "display_data"
    }
   ],
   "source": [
    "jieba.analyse.extract_tags?"
   ]
  },
  {
   "cell_type": "code",
   "execution_count": 40,
   "id": "5b1fd476-e71a-4f96-b775-9efe8dd5e965",
   "metadata": {},
   "outputs": [
    {
     "data": {
      "text/plain": [
       "[('使党', 0.74717296893125),\n",
       " ('土地革命', 0.615014665089375),\n",
       " ('国共合作', 0.551204580436875),\n",
       " ('懂得', 0.437308149649375),\n",
       " ('步伐', 0.432770598845625),\n",
       " ('前进', 0.421433885483125),\n",
       " ('失败', 0.38988811479875),\n",
       " ('成长', 0.381307770855625),\n",
       " ('加快', 0.364517168338125),\n",
       " ('第一次', 0.356877873191875),\n",
       " ('革命', 0.3459378292625),\n",
       " ('合作', 0.344358011695625),\n",
       " ('形成', 0.2670095874675),\n",
       " ('开始', 0.2403141942525),\n",
       " ('进行', 0.23294529968875),\n",
       " ('中国', 0.18920754291625)]"
      ]
     },
     "execution_count": 40,
     "metadata": {},
     "output_type": "execute_result"
    }
   ],
   "source": [
    "jieba.analyse.extract_tags(\n",
    "    \"第一次国共合作的形成加快了中国革命前进步伐.合作失败后，使党开始成长，懂得了进行土地革命\",\n",
    "    withWeight=True\n",
    ")"
   ]
  },
  {
   "cell_type": "code",
   "execution_count": null,
   "id": "f73a41a0-4bd8-41df-a7d1-71abbb69206a",
   "metadata": {},
   "outputs": [],
   "source": []
  },
  {
   "cell_type": "code",
   "execution_count": null,
   "id": "dc403d00-f939-40f4-a455-146af97c0400",
   "metadata": {},
   "outputs": [],
   "source": []
  }
 ],
 "metadata": {
  "kernelspec": {
   "display_name": "Python 3",
   "language": "python",
   "name": "python3"
  },
  "language_info": {
   "codemirror_mode": {
    "name": "ipython",
    "version": 3
   },
   "file_extension": ".py",
   "mimetype": "text/x-python",
   "name": "python",
   "nbconvert_exporter": "python",
   "pygments_lexer": "ipython3",
   "version": "3.9.4"
  }
 },
 "nbformat": 4,
 "nbformat_minor": 5
}
